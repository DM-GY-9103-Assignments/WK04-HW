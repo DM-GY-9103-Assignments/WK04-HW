{
 "cells": [
  {
   "cell_type": "markdown",
   "metadata": {},
   "source": [
    "# HW04"
   ]
  },
  {
   "cell_type": "markdown",
   "metadata": {},
   "source": [
    "### Import helpers\n",
    "\n",
    "Run the following 2 cells to import helper functions, files and libraries"
   ]
  },
  {
   "cell_type": "code",
   "execution_count": 1,
   "metadata": {},
   "outputs": [],
   "source": [
    "!wget -q https://github.com/DM-GY-9103-2024F-H/9103-utils/raw/main/src/audio_utils.py"
   ]
  },
  {
   "cell_type": "code",
   "execution_count": 2,
   "metadata": {},
   "outputs": [],
   "source": [
    "import matplotlib.pyplot as plt\n",
    "\n",
    "from os import listdir, path\n",
    "from random import choice\n",
    "\n",
    "from IPython.display import Audio\n",
    "from PIL import Image\n",
    "\n",
    "from audio_utils import wav_to_list, list_to_wav\n",
    "from audio_utils import fft, cluster_fft_freqs\n",
    "\n",
    "from HW04_utils import HW04Utils"
   ]
  },
  {
   "cell_type": "markdown",
   "metadata": {},
   "source": [
    "## Audio files and sample manipulation\n",
    "\n",
    "Some exercises with audio files, representation and processing."
   ]
  },
  {
   "cell_type": "markdown",
   "metadata": {},
   "source": [
    "### Loading audio files\n",
    "\n",
    "We'll use the pre-define helper function `wav_to_list()` to read a `.wav` file and put its samples in a list.\n",
    "\n",
    "We can then get some info about this list, like its length, and what its samples look like."
   ]
  },
  {
   "cell_type": "code",
   "execution_count": null,
   "metadata": {},
   "outputs": [],
   "source": [
    "wv01 = wav_to_list(\"data/sounds/secret_01.wav\")\n",
    "\n",
    "print(len(wv01))\n",
    "\n",
    "print(wv01[:10])\n",
    "print(wv01[-10:])\n",
    "print(wv01[5000: 5010])"
   ]
  },
  {
   "cell_type": "markdown",
   "metadata": {},
   "source": [
    "### We can visualize the sound wave using matplotlib"
   ]
  },
  {
   "cell_type": "code",
   "execution_count": null,
   "metadata": {},
   "outputs": [],
   "source": [
    "plt.plot(wv01)\n",
    "plt.show()"
   ]
  },
  {
   "cell_type": "markdown",
   "metadata": {},
   "source": [
    "### Playing audio files\n",
    "\n",
    "We can play audio files with the following command:"
   ]
  },
  {
   "cell_type": "code",
   "execution_count": null,
   "metadata": {},
   "outputs": [],
   "source": [
    "display(Audio(wv01, rate=44100))"
   ]
  },
  {
   "cell_type": "markdown",
   "metadata": {},
   "source": [
    "### Hmmm 🤔... \n",
    "\n",
    "The audio sounded incomplete, like it got chopped halfway through a sentence.\n",
    "\n",
    "If we look at the plot above we can see that there is information in the second half, but it might just be too soft."
   ]
  },
  {
   "cell_type": "markdown",
   "metadata": {},
   "source": [
    "## Audio Representation Exercises\n",
    "\n",
    "### Exercise 01\n",
    "\n",
    "We'll have to go through the list of samples and amplify the second half of the audio to hear the hint for the next exercise.\n",
    "\n",
    "We'll create a new list where we'll store the *fixed* samples, which we can then visualize and listen to."
   ]
  },
  {
   "cell_type": "code",
   "execution_count": null,
   "metadata": {
    "tags": [
     "work_cell"
    ]
   },
   "outputs": [],
   "source": [
    "# Work on exercise 01 here\n",
    "\n",
    "# # variable for number of samples per window, or, the window length\n",
    "# WLEN = 1024\n",
    "\n",
    "# # first sample index for each window: [ 0, 1024, 2048, 3072, 4096, ... ]\n",
    "# wx = range(0, len(wv01), WLEN)\n",
    "\n",
    "# samples_win = []\n",
    "# for s_idx in wx:\n",
    "#   samples_win.append(wv01[s_idx : s_idx + WLEN])\n",
    "# len(wv01), len(samples_win)\n",
    "\n",
    "\n",
    "# def rms(samples):\n",
    "#   sq_samples = [s**2 for s in samples]\n",
    "#   avg_sqs = sum(sq_samples) / len(sq_samples)\n",
    "#   return avg_sqs ** 0.5\n",
    "\n",
    "# samples_rms = [rms(samples) for samples in samples_win]\n",
    "\n",
    "# print(len(wv01), len(samples_rms))\n",
    "\n",
    "# plt.plot(wv01)\n",
    "# plt.plot(wx, samples_rms, 'r')\n",
    "# plt.show()\n",
    "# -------------------------------------------\n",
    "\n",
    "louder_sample = [2*s for s in wv01]\n",
    "half_sample = []\n",
    "# amp_wv = []\n",
    "\n",
    "for i, sample in enumerate(wv01):\n",
    "  # maybe look at the amplitude of the samples\n",
    "  # or just amplify the samples on the second half of the list\n",
    "  if i > len(wv01) / 2: \n",
    "    half_sample.append(sample)\n",
    "\n",
    "\n",
    "print(len(half_sample))\n",
    "plt.plot(half_sample)\n",
    "plt.show\n",
    "\n",
    "display(Audio(half_sample, rate=44100))\n",
    "\n",
    "list_to_wav(half_sample, \"./louder.wav\")\n",
    "\n",
    "end_idx = int(0.5 * len(wv01))\n",
    "amp_wv = wv01[:end_idx] + half_sample\n",
    "\n",
    "\n"
   ]
  },
  {
   "cell_type": "markdown",
   "metadata": {},
   "source": [
    "### Check Exercise 01\n",
    "\n",
    "Run this cell to see the wave with the new samples and to play the fixed sound."
   ]
  },
  {
   "cell_type": "code",
   "execution_count": null,
   "metadata": {},
   "outputs": [],
   "source": [
    "plt.plot(amp_wv)\n",
    "plt.show()\n",
    "\n",
    "display(Audio(amp_wv, rate=44100))"
   ]
  },
  {
   "cell_type": "markdown",
   "metadata": {},
   "source": [
    "This cell will use speech transcription to test the resulting waveform (might take up to $30$ seconds):"
   ]
  },
  {
   "cell_type": "code",
   "execution_count": null,
   "metadata": {},
   "outputs": [],
   "source": [
    "HW04Utils.test_transcription(\"01\", amp_wv)"
   ]
  },
  {
   "cell_type": "markdown",
   "metadata": {},
   "source": [
    "To see what the message for exercise $01$ should be:"
   ]
  },
  {
   "cell_type": "code",
   "execution_count": null,
   "metadata": {},
   "outputs": [],
   "source": [
    "HW04Utils.peek_secret(\"01\")"
   ]
  },
  {
   "cell_type": "markdown",
   "metadata": {},
   "source": [
    "### Sound 02\n",
    "\n",
    "Better.\n",
    "\n",
    "Well, here's the second sound. The previous audio gave a pretty good hint of how to fix it.\n",
    "\n",
    "Let's load it and take a look/listen:"
   ]
  },
  {
   "cell_type": "code",
   "execution_count": null,
   "metadata": {},
   "outputs": [],
   "source": [
    "wv02 = wav_to_list(\"data/sounds/secret_02.wav\")\n",
    "\n",
    "plt.plot(wv02)\n",
    "plt.show()\n",
    "\n",
    "display(Audio(wv02, rate=44100))"
   ]
  },
  {
   "cell_type": "markdown",
   "metadata": {},
   "source": [
    "### Exercise 02\n",
    "\n",
    "We'll have to turn it around.\n",
    "\n",
    "Again, we'll create a new list where we'll store the *fixed* samples, so later we can visualize and listen to them.\n",
    "\n",
    "The cell below is a suggestion of how to go about doing this, but there are many other ways. Feel free to implement this using a different method."
   ]
  },
  {
   "cell_type": "code",
   "execution_count": null,
   "metadata": {
    "tags": [
     "work_cell"
    ]
   },
   "outputs": [],
   "source": [
    "# Work on exercise 02 here\n",
    "rev_samples = list(reversed(wv02))\n",
    "plt.plot(rev_samples)\n",
    "plt.show()\n",
    "display(Audio(rev_samples, rate=44100))\n",
    "\n",
    "rev_wv = rev_samples\n",
    "\n",
    "# for i, sample in enumerate(wv02):\n",
    "#   # as we go through the indexes 0, 1, 2, etc ...\n",
    "#   # what index should the new samples be coming from ?\n",
    "#   print(\"TODO: figure out what/when to append to rev_wv and remove this message\")\n"
   ]
  },
  {
   "cell_type": "markdown",
   "metadata": {},
   "source": [
    "### Check Exercise 02\n",
    "\n",
    "Run this cell to see the wave with the new samples and to play the fixed sound."
   ]
  },
  {
   "cell_type": "code",
   "execution_count": null,
   "metadata": {},
   "outputs": [],
   "source": [
    "plt.plot(rev_wv)\n",
    "plt.show()\n",
    "\n",
    "display(Audio(rev_wv, rate=44100))"
   ]
  },
  {
   "cell_type": "code",
   "execution_count": null,
   "metadata": {},
   "outputs": [],
   "source": [
    "HW04Utils.test_transcription(\"02\", rev_wv)"
   ]
  },
  {
   "cell_type": "markdown",
   "metadata": {},
   "source": [
    "### Sound 03\n",
    "\n",
    "Let's keep going. Here's sound 3. Let's take a look and a listen.\n",
    "\n",
    "### ❗️❗️ WARNING ❗️❗️\n",
    "This audio file is kind of distorted and loud. Turn down or remove headphones."
   ]
  },
  {
   "cell_type": "code",
   "execution_count": null,
   "metadata": {},
   "outputs": [],
   "source": [
    "wv03 = wav_to_list(\"data/sounds/secret_03.wav\")\n",
    "\n",
    "plt.plot(wv03)\n",
    "plt.show()\n",
    "\n",
    "display(Audio(wv03, rate=44100))"
   ]
  },
  {
   "cell_type": "markdown",
   "metadata": {},
   "source": [
    "### Exercise 03\n",
    "\n",
    "Ok. We have to move the smallest-valued samples of the wave.\n",
    "\n",
    "First we have to figure out the value of the smallest sample, then go through the list of samples and move them back to the center."
   ]
  },
  {
   "cell_type": "code",
   "execution_count": 8,
   "metadata": {
    "tags": [
     "work_cell"
    ]
   },
   "outputs": [],
   "source": [
    "# Work on exercise 03 here\n",
    "# WLEN = 1024\n",
    "\n",
    "# # first sample index for each window: [ 0, 1024, 2048, 3072, 4096, ... ]\n",
    "# wx = range(0, len(wv03), WLEN)\n",
    "\n",
    "# samples_win = []\n",
    "# for s_idx in wx:\n",
    "#   samples_win.append(wv03[s_idx : s_idx + WLEN])\n",
    "# len(wv03), len(samples_win)\n",
    "\n",
    "\n",
    "# def rms(samples):\n",
    "#   sq_samples = [s**2 for s in samples]\n",
    "#   avg_sqs = sum(sq_samples) / len(sq_samples)\n",
    "#   return avg_sqs ** 0.5\n",
    "\n",
    "# samples_rms = [rms(samples) for samples in samples_win]\n",
    "\n",
    "# print(len(wv03), len(samples_rms))\n",
    "\n",
    "# plt.plot(wv03)\n",
    "# plt.plot(wx, samples_rms, 'r')\n",
    "# plt.show()\n",
    "\n",
    "\n",
    "min_value = min(wv03)\n",
    "max_value = max(wv03)\n",
    "up_wv = []\n",
    "\n",
    "for sample in wv03:\n",
    "  if sample == min_value: \n",
    "    up_wv.append(0)\n",
    "  else: \n",
    "    up_wv.append(sample)\n",
    "  # as we go through the samples,\n",
    "  # we have to bring some of them \"up\" somehow\n"
   ]
  },
  {
   "cell_type": "markdown",
   "metadata": {},
   "source": [
    "### Check Exercise 03\n",
    "\n",
    "Run this cell to see the wave with the new samples and to play the fixed sound."
   ]
  },
  {
   "cell_type": "code",
   "execution_count": null,
   "metadata": {},
   "outputs": [],
   "source": [
    "plt.plot(up_wv)\n",
    "plt.show()\n",
    "\n",
    "display(Audio(up_wv, rate=44100))"
   ]
  },
  {
   "cell_type": "code",
   "execution_count": null,
   "metadata": {},
   "outputs": [],
   "source": [
    "HW04Utils.test_transcription(\"03\", up_wv)"
   ]
  },
  {
   "cell_type": "markdown",
   "metadata": {},
   "source": [
    "### Sound 04\n",
    "\n",
    "And here's sound 4."
   ]
  },
  {
   "cell_type": "code",
   "execution_count": null,
   "metadata": {},
   "outputs": [],
   "source": [
    "wv04 = wav_to_list(\"data/sounds/secret_04.wav\")\n",
    "\n",
    "plt.plot(wv04)\n",
    "plt.show()\n",
    "\n",
    "display(Audio(wv04, rate=44100))"
   ]
  },
  {
   "cell_type": "markdown",
   "metadata": {},
   "source": [
    "### Exercise 04\n",
    "\n",
    "We'll have to sub-sample the list.\n",
    "\n",
    "Again, we'll create a new list where we'll store the *fixed* samples, so later we can visualize and listen to them.\n",
    "\n",
    "And like before, there are multiple ways of solving this. Feel free to do it differently."
   ]
  },
  {
   "cell_type": "code",
   "execution_count": 6,
   "metadata": {
    "tags": [
     "work_cell"
    ]
   },
   "outputs": [],
   "source": [
    "# Work on exercise 04 here\n",
    "\n",
    "unzip_wv = []\n",
    "\n",
    "for i, sample in enumerate(wv04):\n",
    "  if i % 13 == 0: \n",
    "    unzip_wv.append(sample)\n",
    "  # as we go through the list, we only keep some of the samples\n",
    "  # the mod operator (%) can help here\n",
    " "
   ]
  },
  {
   "cell_type": "markdown",
   "metadata": {},
   "source": [
    "### Check Exercise 04\n",
    "\n",
    "Run this cell to see the wave with the new samples and to play the fixed sound."
   ]
  },
  {
   "cell_type": "code",
   "execution_count": null,
   "metadata": {},
   "outputs": [],
   "source": [
    "plt.plot(unzip_wv)\n",
    "plt.show()\n",
    "\n",
    "display(Audio(unzip_wv, rate=44100))"
   ]
  },
  {
   "cell_type": "code",
   "execution_count": null,
   "metadata": {},
   "outputs": [],
   "source": [
    "HW04Utils.test_transcription(\"04\", unzip_wv)"
   ]
  },
  {
   "cell_type": "markdown",
   "metadata": {},
   "source": [
    "### Sound 05\n",
    "\n",
    "So for this last one, the sound file or list of samples is actually the same one that was decoded above.\n"
   ]
  },
  {
   "cell_type": "code",
   "execution_count": 9,
   "metadata": {},
   "outputs": [],
   "source": [
    "# slicing the whole list makes a copy of it\n",
    "wv05 = unzip_wv[:]"
   ]
  },
  {
   "cell_type": "markdown",
   "metadata": {},
   "source": [
    "### Exercise 05\n",
    "\n",
    "We'll have to sub-sample the list again. It's the same strategy, and possibly the same code as above.\n",
    "\n",
    "We'll create a new list with the *fixed* samples, but that's only the first step. We'll take a look at the result and continue processing afterwards."
   ]
  },
  {
   "cell_type": "code",
   "execution_count": 11,
   "metadata": {
    "tags": [
     "work_cell"
    ]
   },
   "outputs": [],
   "source": [
    "# Work on exercise 05 here\n",
    "\n",
    "sample_wv = []\n",
    "\n",
    "for i, sample in enumerate(wv05):\n",
    "  if i % 13 == 0:\n",
    "    sample_wv.append(sample)\n",
    "  # as we go through the list, we only keep some of the samples\n",
    "  # the mod operator (%) can help here\n"
   ]
  },
  {
   "cell_type": "markdown",
   "metadata": {},
   "source": [
    "### Check Exercise 05\n",
    "\n",
    "Run this cell to see the wave with the new samples and to play the fixed sound."
   ]
  },
  {
   "cell_type": "code",
   "execution_count": null,
   "metadata": {},
   "outputs": [],
   "source": [
    "plt.plot(sample_wv)\n",
    "plt.show()\n",
    "\n",
    "display(Audio(sample_wv, rate=44100))"
   ]
  },
  {
   "cell_type": "markdown",
   "metadata": {},
   "source": [
    "That looks and sounds very different from previous decoded messages, because it's not sound.\n",
    "\n",
    "### Continue Exercise 05\n",
    "\n",
    "In order to re-interpret these samples as an image we have to first count how many samples our new list has, and use that to determine the size of our square image.\n",
    "\n",
    "Since an $n \\times n$ image has $n^2$ pixels, if our list has $16$ samples our image will be $4 \\times 4$, if it has $1024$ samples, it will be $32 \\times 32$, etc.\n",
    "\n",
    "Since $\\sqrt{n} = n^{0.5}$, in python we can take the square root of a number by doing `n ** 0.5`."
   ]
  },
  {
   "cell_type": "code",
   "execution_count": null,
   "metadata": {
    "tags": [
     "work_cell"
    ]
   },
   "outputs": [],
   "source": [
    "# fill this out with the image dimension based on the number of samples in the sample_wv list\n",
    "# the image dimension is the square root of the length of the list of samples\n",
    "number_of_samples = len(sample_wv)\n",
    "print(number_of_samples)\n",
    "sqrt_value = 16900 ** 0.5\n",
    "img_dim = sqrt_value"
   ]
  },
  {
   "cell_type": "markdown",
   "metadata": {},
   "source": [
    "### And finally...\n",
    "\n",
    "Now we can run this cell to put the samples we got from the sound file into an image and display it.\n",
    "\n",
    "The cell below creates an empty $n x n$ image and then copies the samples from the decoded sound wave into it as pixel color information."
   ]
  },
  {
   "cell_type": "code",
   "execution_count": null,
   "metadata": {},
   "outputs": [],
   "source": [
    "im = Image.new(\"L\", (int(img_dim), int(img_dim)))\n",
    "im.putdata(sample_wv)\n",
    "display(im)"
   ]
  },
  {
   "cell_type": "markdown",
   "metadata": {},
   "source": [
    "This is just to give a little preview of what it's like to work with images, and how it's possible to re-interpret sound as images and images as sound. It's all lists of bytes after all.\n",
    "\n",
    "We'll definitely look at more image examples next week."
   ]
  },
  {
   "cell_type": "markdown",
   "metadata": {},
   "source": [
    "## Sound Classification Exercise\n",
    "\n",
    "Now for something a bit different...\n",
    "\n",
    "I messed up a script to synthesize audio files from `midi` files and the output filenames came out all wrong as numbers.\n",
    "\n",
    "# 😓\n",
    "\n",
    "There are a bunch of audio files inside the `data/sounds/classification/test` directory that I want to separate by instrument. I could do this by listening to each file, but since there are almost $100$ files, I'd rather not.\n",
    "\n",
    "Luckily, some files were exported with correct names. Those are in the `data/sounds/classification/train` directory.\n",
    "\n",
    "Our task for this exercise is to take a look at the correctly labeled files in the `train` directory, do some analysis on their waveforms, and see if there are any patterns or properties that we could use to automatically re-label the files in the `test` directory.\n",
    "\n",
    "Let's break this down into steps.\n",
    "\n",
    "### 01A. Reading all the labeled files\n",
    "\n",
    "Let's first look at how we can read all of the files in the `data/sounds/classification/train` directory.\n",
    "\n",
    "We are going to use the `Python` system function `listdir()` for listing files in a directory."
   ]
  },
  {
   "cell_type": "code",
   "execution_count": 3,
   "metadata": {},
   "outputs": [],
   "source": [
    "# Declare location of train files\n",
    "TRAIN_PATH = \"data/sounds/classification/train\"\n",
    "\n",
    "# List comprehension for getting all of the filenames that end in \"wav\" inside the train directory\n",
    "train_files = [f for f in listdir(TRAIN_PATH) if f.endswith(\"wav\")]"
   ]
  },
  {
   "cell_type": "markdown",
   "metadata": {},
   "source": [
    "### Checking our list\n",
    "\n",
    "Take a look at the `train_files` list.\n",
    "\n",
    "How many files are there?\n",
    "\n",
    "How are the file names formatted ?"
   ]
  },
  {
   "cell_type": "code",
   "execution_count": 4,
   "metadata": {
    "tags": [
     "work_cell"
    ]
   },
   "outputs": [
    {
     "name": "stdout",
     "output_type": "stream",
     "text": [
      "36\n",
      "_wave_params(nchannels=1, sampwidth=2, framerate=44100, nframes=86476, comptype='NONE', compname='not compressed')\n"
     ]
    }
   ],
   "source": [
    "# print the size of the train_files list here, along with some of its contents\n",
    "import wave\n",
    "\n",
    "print(len(train_files))\n",
    "sound_file_path = \"./data/sounds/classification/train/clarinet-0.wav\"\n",
    "wav_in = wave.open(sound_file_path, mode=\"rb\")\n",
    "\n",
    "# Print audio file parameters\n",
    "print(wav_in.getparams())"
   ]
  },
  {
   "cell_type": "markdown",
   "metadata": {},
   "source": [
    "### 01B. Reading all the unlabeled files\n",
    "\n",
    "Repeat the above steps to get the names of all of the files inside the `data/sounds/classification/test` directory.\n",
    "\n",
    "How many files are there?\n",
    "\n",
    "How are the files named?\n",
    "\n",
    "Print the number of files in the directory and their names below."
   ]
  },
  {
   "cell_type": "code",
   "execution_count": 5,
   "metadata": {
    "tags": [
     "work_cell"
    ]
   },
   "outputs": [
    {
     "name": "stdout",
     "output_type": "stream",
     "text": [
      "93\n"
     ]
    }
   ],
   "source": [
    "# Fill out the values for these two variables\n",
    "\n",
    "# Declare location of test files\n",
    "TEST_PATH = \"data/sounds/classification/test\"\n",
    "\n",
    "# Get all of the filenames that end in \"wav\" inside the test directory\n",
    "test_files = [f for f in listdir(TEST_PATH) if f.endswith(\"wav\")]\n",
    "\n",
    "# Print the number of files inside the list and some of its contents\n",
    "print(len(test_files))"
   ]
  },
  {
   "cell_type": "markdown",
   "metadata": {},
   "source": [
    "### 02A. Iterating through the files\n",
    "\n",
    "Let's iterate through all of the files in `train_files`, open them, and get the number of samples in each file.\n",
    "\n",
    "In order to analyze, plot and process our data later, let's keep track of the number of samples and the name of the file in a list with the following format:\n",
    "\n",
    "```py\n",
    "file_info = [\n",
    "  [value, filename],\n",
    "  [value, filename],\n",
    "  ...\n",
    "]\n",
    "```\n",
    "\n",
    "So, `file_info` is a list of lists, where each inner list has two members, `value`, which is some numeric info about the audio in that file, and `filename`, which is the name of the file.\n",
    "\n",
    "For now, the `value` we are interested in extracting is the length of each audio file.\n",
    "\n",
    "We'll use the `Python` function `path.join()` to get the full path of the files inside our `train_files` list."
   ]
  },
  {
   "cell_type": "code",
   "execution_count": 6,
   "metadata": {},
   "outputs": [
    {
     "name": "stdout",
     "output_type": "stream",
     "text": [
      "36\n",
      "36\n"
     ]
    }
   ],
   "source": [
    "# list to keep info about audio files\n",
    "\n",
    "length_info_train = []\n",
    "\n",
    "# iterate through all of the filenames inside the train files list\n",
    "for fname in train_files:\n",
    "  # this gets us the full location path for the filename\n",
    "  fpath = path.join(TRAIN_PATH, fname)\n",
    "\n",
    "  # open the file and read its samples into an array\n",
    "  samples = wav_to_list(fpath)\n",
    "\n",
    "  # get value of interest (number of samples in file)\n",
    "  val = len(samples)\n",
    "\n",
    "  # store the info using the format specified above\n",
    "  length_info_train.append([ val, fname ])\n",
    "\n",
    "# check that we processed all files. This should be as long as the train_files list\n",
    "print(len(length_info_train))\n",
    "print(len(train_files))"
   ]
  },
  {
   "cell_type": "markdown",
   "metadata": {},
   "source": [
    "### 02B. Repeat for `test` files\n",
    "\n",
    "Repeat the above process using the test files."
   ]
  },
  {
   "cell_type": "code",
   "execution_count": 7,
   "metadata": {
    "tags": [
     "work_cell"
    ]
   },
   "outputs": [
    {
     "name": "stdout",
     "output_type": "stream",
     "text": [
      "93\n",
      "93\n"
     ]
    }
   ],
   "source": [
    "\n",
    "#---------------------------------------------------------\n",
    "# list to keep info about audio files\n",
    "length_info_test = []\n",
    "\n",
    "# iterate through all of the filenames inside the test files list\n",
    "for fname in test_files:\n",
    "  # get full location path for the filename\n",
    "  fpath = path.join(TEST_PATH, fname)\n",
    "  # open the file and read its samples into an array\n",
    "  samples = wav_to_list(fpath)\n",
    "  # get value of interest (number of samples in file)\n",
    "  val = len(samples)\n",
    "  # store the info using the format specified above: [value, filename]\n",
    "  length_info_test.append([ val, fname ])\n",
    "# check that we processed all files. \n",
    "print(len(length_info_test))\n",
    "# the test_file_info list should be as long as the test_files list\n",
    "print(len(test_files)) "
   ]
  },
  {
   "cell_type": "markdown",
   "metadata": {},
   "source": [
    "### 03A. Taking a look at the `train` data\n",
    "\n",
    "Let's plot the info we extracted above.\n",
    "\n",
    "There's a `plot_labels_vals()` function inside the `HW04Utils` class that will plot the values in our `file_info` lists.\n",
    "\n",
    "We just have to call the function with a list of `[value, filename]` elements, and a title for our graph.\n",
    "\n",
    "If the `filename` used contains information about the instrument label it will group values by instruments.\n"
   ]
  },
  {
   "cell_type": "code",
   "execution_count": 8,
   "metadata": {},
   "outputs": [
    {
     "data": {
      "image/png": "[encoded data removed]",
      "text/plain": [
       "<Figure size 800x200 with 1 Axes>"
      ]
     },
     "metadata": {},
     "output_type": "display_data"
    }
   ],
   "source": [
    "HW04Utils.plot_labels_vals(length_info_train, \"Train file lengths\")"
   ]
  },
  {
   "cell_type": "markdown",
   "metadata": {},
   "source": [
    "# 🤔\n",
    "\n",
    "This graph is a bit hard to read at first, but if we remember that the values we are plotting are the length of the files in samples, we can see that all of our files have between $86000$ and $87000$ samples.\n",
    "\n",
    "And more importantly, there's no correlation between the length of the files and the type of instrument.\n",
    "\n",
    "### 03B. Repeat for the `test` data\n",
    "\n",
    "Remember that the x-axis represents the number of samples in each file and the y-axis is the file name."
   ]
  },
  {
   "cell_type": "code",
   "execution_count": 9,
   "metadata": {
    "tags": [
     "work_cell"
    ]
   },
   "outputs": [
    {
     "data": {
      "image/png": "[encoded data removed]",
      "text/plain": [
       "<Figure size 800x200 with 1 Axes>"
      ]
     },
     "metadata": {},
     "output_type": "display_data"
    }
   ],
   "source": [
    "# plot file name versus length of file for the test data\n",
    "HW04Utils.plot_labels_vals(length_info_test, \"Test file lengths\")"
   ]
  },
  {
   "cell_type": "markdown",
   "metadata": {},
   "source": [
    "The resulting plot is not super useful, but it should confirm that there's no pattern in the file lengths.\n",
    "\n",
    "It's always a good idea to plot any and all information about our data because sometimes we get lucky and find some pattern that is easy to extract and use.\n",
    "\n",
    "### 04. Looking at other data\n",
    "\n",
    "Let's repeat the process of extracting info from our files, but this time let's grab the value of the first sample in each file."
   ]
  },
  {
   "cell_type": "code",
   "execution_count": 10,
   "metadata": {},
   "outputs": [
    {
     "name": "stdout",
     "output_type": "stream",
     "text": [
      "36\n"
     ]
    },
    {
     "data": {
      "image/png": "[encoded data removed]",
      "text/plain": [
       "<Figure size 800x200 with 1 Axes>"
      ]
     },
     "metadata": {},
     "output_type": "display_data"
    }
   ],
   "source": [
    "# list to keep info about audio files\n",
    "sample_info_train = []\n",
    "\n",
    "# iterate through all of the filenames inside the train files list\n",
    "for fname in train_files:\n",
    "  # this gets us the full location path for the filename\n",
    "  fpath = path.join(TRAIN_PATH, fname)\n",
    "\n",
    "  # open the file and read its samples into an array\n",
    "  samples = wav_to_list(fpath)\n",
    "\n",
    "  # get value of interest (value of first sample)\n",
    "  val = samples[0]\n",
    "\n",
    "  # store the info using the format specified above\n",
    "  sample_info_train.append([ val, fname ])\n",
    "\n",
    "# check that we processed all files. This should be as long as the train_files list\n",
    "print(len(sample_info_train))\n",
    "\n",
    "HW04Utils.plot_labels_vals(sample_info_train, \"Train first sample\")"
   ]
  },
  {
   "cell_type": "markdown",
   "metadata": {},
   "source": [
    "# 🤨\n",
    "\n",
    "It's not super clear, but there's something of a pattern here.\n",
    "\n",
    "The first sample values show some correlation to the instrument.\n",
    "\n",
    "We could plot something similar with the test data, but let's build a model for classifying instruments based on this data.\n",
    "\n",
    "### 05. Create a model\n",
    "\n",
    "Let's use the info in the graph and create a function that outputs the instrument label based on the value of the first sample.\n",
    "\n",
    "If the first sample is between $-1000$ and $100$ we'll say it's a `piano`, if it's between $100$ and $4500$ we'll label it `guitar`, otherwise it's a `clarinet`.\n",
    "\n",
    "It won't be perfect, but we can check how close we get with just this small amount of information."
   ]
  },
  {
   "cell_type": "code",
   "execution_count": 11,
   "metadata": {},
   "outputs": [],
   "source": [
    "# function that takes samples of a file and returns a label\n",
    "def first_sample_classifier(samples):\n",
    "  first_sample = samples[0]\n",
    "  if first_sample > -1000 and first_sample < 100:\n",
    "    return \"piano\"\n",
    "  elif first_sample > 100 and first_sample < 4500:\n",
    "    return \"guitar\"\n",
    "  else:\n",
    "    return \"clarinet\""
   ]
  },
  {
   "cell_type": "markdown",
   "metadata": {},
   "source": [
    "### Random classifier\n",
    "\n",
    "We're also gonna create a random classifier to use as a baseline for comparisons later.\n",
    "\n",
    "The random classifier just guesses a label randomly. Our model should do better than random guesses."
   ]
  },
  {
   "cell_type": "code",
   "execution_count": 12,
   "metadata": {},
   "outputs": [],
   "source": [
    "# random classifier to use for comparisons\n",
    "def random_classifier(_):\n",
    "  # the choice() function selects a random element from a list\n",
    "  return choice([\"clarinet\", \"guitar\", \"piano\"])"
   ]
  },
  {
   "cell_type": "markdown",
   "metadata": {},
   "source": [
    "### 06. Run classification on `train` data\n",
    "\n",
    "Let's iterate through all the train files again, and this time instead of saving the first sample value and the filename in the list, we'll save our calculated label and the filename.\n",
    "\n",
    "```py\n",
    "first_sample_predictions = [\n",
    "  [label, filename],\n",
    "  [label, filename],\n",
    "  ...\n",
    "]\n",
    "```\n",
    "\n",
    "We'll also keep track of classifications made by the `random_classifier`."
   ]
  },
  {
   "cell_type": "code",
   "execution_count": 13,
   "metadata": {},
   "outputs": [
    {
     "name": "stdout",
     "output_type": "stream",
     "text": [
      "36\n",
      "[['clarinet', 'guitar-9.wav'], ['piano', 'clarinet-8.wav'], ['clarinet', 'clarinet-9.wav']]\n"
     ]
    }
   ],
   "source": [
    "# list to keep info about predictions\n",
    "first_sample_predictions_train = []\n",
    "\n",
    "# list to keep info about random predictions\n",
    "random_predictions_train = []\n",
    "\n",
    "# iterate through all of the filenames inside the train files list\n",
    "for fname in train_files:\n",
    "  # this gets us the full location path for the filename\n",
    "  fpath = path.join(TRAIN_PATH, fname)\n",
    "\n",
    "  # open the file and read its samples into an array\n",
    "  samples = wav_to_list(fpath)\n",
    "\n",
    "  # get prediction using model defined above\n",
    "  prediction = first_sample_classifier(samples)\n",
    "\n",
    "  # get prediction using random classifier defined above\n",
    "  random_prediction = random_classifier(samples)\n",
    "\n",
    "  # store the prediction and filename\n",
    "  first_sample_predictions_train.append([ prediction, fname ])\n",
    "\n",
    "  # store the random prediction and filename\n",
    "  random_predictions_train.append([ random_prediction, fname ])\n",
    "\n",
    "# check that we processed all files. This should be as long as the train_files list\n",
    "print(len(first_sample_predictions_train))\n",
    "\n",
    "# look at first couple of predictions just to check that our format is correct\n",
    "print(first_sample_predictions_train[:3])"
   ]
  },
  {
   "cell_type": "markdown",
   "metadata": {},
   "source": [
    "### 07. Check accuracy on `train` data\n",
    "\n",
    "We could go through the list and extract the correct label information from the filename to check our predictions, but luckily our `HW04Utils` class has a function that does that.\n",
    "\n",
    "We just have to call `classification_accuracy()` with our list of labels and filenames.\n",
    "\n",
    "We can also call it with the random predictions to see how we compare to randomly guessing labels."
   ]
  },
  {
   "cell_type": "code",
   "execution_count": 14,
   "metadata": {},
   "outputs": [
    {
     "name": "stdout",
     "output_type": "stream",
     "text": [
      "Sample Classifier {'clarinet': 0.5, 'guitar': 0.58333, 'piano': 0.5, 'overall': 0.52778}\n",
      "Random Classifier {'clarinet': 0.16667, 'guitar': 0.16667, 'piano': 0.16667, 'overall': 0.16667}\n"
     ]
    }
   ],
   "source": [
    "print(\"Sample Classifier\", HW04Utils.classification_accuracy(first_sample_predictions_train))\n",
    "print(\"Random Classifier\", HW04Utils.classification_accuracy(random_predictions_train))"
   ]
  },
  {
   "cell_type": "markdown",
   "metadata": {},
   "source": [
    "Not bad. Our model predicts the correct instrument about half of the time, which is better than randomly guessing an instrument and getting it right $33\\%$ of the time.\n",
    "\n",
    "Let's see how it performs on the actual `test` data.\n",
    "\n",
    "### 08. Run model on `test` data and check accuracy\n",
    "\n",
    "Repeat the above, but using the `test` data files.\n",
    "\n",
    "Don't worry about keeping track of random classifications this time."
   ]
  },
  {
   "cell_type": "code",
   "execution_count": 16,
   "metadata": {
    "tags": [
     "work_cell"
    ]
   },
   "outputs": [
    {
     "name": "stdout",
     "output_type": "stream",
     "text": [
      "93\n",
      "[['clarinet', '3059070.wav'], ['clarinet', '2938372.wav'], ['clarinet', '3194335.wav']]\n",
      "Sample Classifier {'clarinet': 0.67742, 'guitar': 0.32258, 'piano': 0.45161, 'overall': 0.48387}\n",
      "Random Classifier {'clarinet': 0.22581, 'guitar': 0.25806, 'piano': 0.41935, 'overall': 0.30107}\n"
     ]
    }
   ],
   "source": [
    "# list to keep info about predictions\n",
    "first_sample_predictions_test = []\n",
    "random_predictions_test = []\n",
    "# iterate through all of the filenames inside the test files li\n",
    "for fname in test_files:\n",
    "  # get full location path for the filename\n",
    "  fpath = path.join(TEST_PATH, fname)\n",
    "  # open the file and read its samples into an array\n",
    "  samples = wav_to_list(fpath)\n",
    "  # get prediction using model defined above\n",
    "  prediction = first_sample_classifier(samples)\n",
    "  # store the prediction and filename\n",
    "  random_prediction = random_classifier(samples)\n",
    "  first_sample_predictions_test.append([ prediction, fname ])\n",
    "  random_predictions_test.append([ random_prediction, fname ])\n",
    "# check that we processed all files. This should be as long as the test_files list\n",
    "# look at first couple of predictions just to check that our format is correct\n",
    "# check accuracy\n",
    "print(len(first_sample_predictions_test))\n",
    "print(first_sample_predictions_test[:3])\n",
    "\n",
    "print(\"Sample Classifier\", HW04Utils.classification_accuracy(first_sample_predictions_test))\n",
    "print(\"Random Classifier\", HW04Utils.classification_accuracy(random_predictions_test))\n"
   ]
  },
  {
   "cell_type": "markdown",
   "metadata": {},
   "source": [
    "# 🎉\n",
    "\n",
    "Not bad. This simple model performs ok for some of the instruments.\n",
    "\n",
    "Let's improve it.\n",
    "\n",
    "### Repeat steps $04$ through $08$\n",
    "\n",
    "This time, consider other aspects of the audio data to build a better model.\n",
    "\n",
    "Maybe the absolute value of the first sample can be used to better label the audio. Maybe the value of the loudest sample or the value of the softest sample of each file can tell us something about the instrument. Maybe the overall range of the sample values...\n",
    "\n",
    "Maybe the `Root Mean Square Energy` or the `Zero-Crossing Rate` of our samples could be used.\n",
    "\n",
    "Maybe the frequency content has some information about the instrument. We could use the `fft()` and `cluster_fft_freqs()` functions from our `WK03` / `WK04` notebooks to get the dominant frequencies of our audio files.\n",
    "\n",
    "Our new model won't be perfect. Pick a couple of these strategies to experiment with and just confirm that it performs better than the random classifier that guesses the instrument."
   ]
  },
  {
   "cell_type": "markdown",
   "metadata": {},
   "source": [
    "### Analyze data\n",
    "\n",
    "Take a look at other properties of the `train` audio files.\n",
    "\n",
    "The loop below is mostly filled out, but the `val` variable has to be calculated using some other information from our audio data."
   ]
  },
  {
   "cell_type": "code",
   "execution_count": 24,
   "metadata": {
    "tags": [
     "work_cell"
    ]
   },
   "outputs": [
    {
     "data": {
      "image/png": "[encoded data removed]",
      "text/plain": [
       "<Figure size 800x200 with 1 Axes>"
      ]
     },
     "metadata": {},
     "output_type": "display_data"
    }
   ],
   "source": [
    "# list to keep info about audio files\n",
    "audio_info_train = []\n",
    "\n",
    "# iterate through all of the filenames inside the train files list\n",
    "for fname in train_files:\n",
    "  # this gets us the full location path for the filename\n",
    "  fpath = path.join(TRAIN_PATH, fname)\n",
    "\n",
    "  # open the file and read its samples into an array\n",
    "  samples = wav_to_list(fpath)\n",
    "\n",
    "  # TODO: get value of interest !!!!\n",
    "  WLEN = 1024\n",
    "\n",
    "  # first sample index for each window: [ 0, 1024, 2048, 3072, 4096, ... ]\n",
    "  wx = range(0, len(samples), WLEN)\n",
    "\n",
    "  samples_win = []\n",
    "  for s_idx in wx:\n",
    "    samples_win.append(samples[s_idx : s_idx + WLEN])\n",
    "  len(samples), len(samples_win)\n",
    "\n",
    "\n",
    "  def rms(samples):\n",
    "    sq_samples = [s**2 for s in samples]\n",
    "    avg_sqs = sum(sq_samples) / len(sq_samples)\n",
    "    return avg_sqs ** 0.5\n",
    "\n",
    "  samples_rms = [rms(samples) for samples in samples_win]\n",
    "  avg_rms = sum(samples_rms) / len(samples_rms)\n",
    "\n",
    "  val = avg_rms\n",
    "\n",
    "  # store the info using the format specified above\n",
    "  audio_info_train.append([val, fname ])\n",
    "HW04Utils.plot_labels_vals(audio_info_train, \"Train: some new feature\")"
   ]
  },
  {
   "cell_type": "markdown",
   "metadata": {},
   "source": [
    "### Build model\n",
    "\n",
    "Fill in the function below to create a better classifier based on the analysis done above."
   ]
  },
  {
   "cell_type": "code",
   "execution_count": 25,
   "metadata": {
    "tags": [
     "work_cell"
    ]
   },
   "outputs": [],
   "source": [
    "# returns a label based on __??????__\n",
    "def awesome_classifier(samples):\n",
    "  # TODO: fill out this function !!!\n",
    "  first_sample = samples[0]\n",
    "  if first_sample > 0 and first_sample < 2500: \n",
    "    return \"piano\"\n",
    "  elif  first_sample > 1500 and first_sample < 4000: \n",
    "    return \"guitar\"\n",
    "  else: \n",
    "    return \"clarinet\""
   ]
  },
  {
   "cell_type": "markdown",
   "metadata": {},
   "source": [
    "### Run on `train` and `test` data and check accuracy\n",
    "\n",
    "This cell is already filled out correct, we just have to run it to get the accuracy values for our model.\n",
    "\n",
    "Our model won't be perfect, but it should perform better than the `random_classifier` model on the `test` data."
   ]
  },
  {
   "cell_type": "code",
   "execution_count": 26,
   "metadata": {},
   "outputs": [
    {
     "name": "stdout",
     "output_type": "stream",
     "text": [
      "Train Accuracy\n",
      "\tAwesome {'clarinet': 0.83333, 'guitar': 0.16667, 'piano': 0.25, 'overall': 0.41667}\n",
      "\n",
      "Test Accuracy\n",
      "\tRandom {'clarinet': 0.32258, 'guitar': 0.32258, 'piano': 0.35484, 'overall': 0.33333}\n",
      "\tAwesome {'clarinet': 0.74194, 'guitar': 0.16129, 'piano': 0.64516, 'overall': 0.51613}\n"
     ]
    }
   ],
   "source": [
    "# lists to keep info about predictions\n",
    "train_model_predictions = []\n",
    "test_model_predictions = []\n",
    "test_random_predictions = []\n",
    "\n",
    "# iterate through all of the filenames inside the train files list\n",
    "for fname in train_files:\n",
    "  # open the file and read its samples into an array\n",
    "  samples = wav_to_list(path.join(TRAIN_PATH, fname))\n",
    "\n",
    "  # get prediction using awesome model defined above\n",
    "  model_prediction = awesome_classifier(samples)\n",
    "\n",
    "  # store the predictions and filename\n",
    "  train_model_predictions.append([ model_prediction, fname ])\n",
    "\n",
    "\n",
    "print(\"Train Accuracy\")\n",
    "print(\"\\tAwesome\", HW04Utils.classification_accuracy(train_model_predictions))\n",
    "\n",
    "\n",
    "# iterate through all of the filenames inside the test files list\n",
    "for fname in test_files:\n",
    "  # open the file and read its samples into an array\n",
    "  samples = wav_to_list(path.join(TEST_PATH, fname))\n",
    "\n",
    "  # get prediction using random classifier\n",
    "  random_prediction = random_classifier(samples)\n",
    "  # get prediction using awesome model defined above\n",
    "  model_prediction = awesome_classifier(samples)\n",
    "\n",
    "  # store the predictions and filename\n",
    "  test_random_predictions.append([ random_prediction, fname ])\n",
    "  test_model_predictions.append([ model_prediction, fname ])\n",
    "\n",
    "\n",
    "print(\"\\nTest Accuracy\")\n",
    "print(\"\\tRandom\", HW04Utils.classification_accuracy(test_random_predictions))\n",
    "print(\"\\tAwesome\", HW04Utils.classification_accuracy(test_model_predictions))"
   ]
  }
 ],
 "metadata": {
  "kernelspec": {
   "display_name": "hf-model",
   "language": "python",
   "name": "python3"
  },
  "language_info": {
   "codemirror_mode": {
    "name": "ipython",
    "version": 3
   },
   "file_extension": ".py",
   "mimetype": "text/x-python",
   "name": "python",
   "nbconvert_exporter": "python",
   "pygments_lexer": "ipython3",
   "version": "3.10.15"
  }
 },
 "nbformat": 4,
 "nbformat_minor": 2
}
